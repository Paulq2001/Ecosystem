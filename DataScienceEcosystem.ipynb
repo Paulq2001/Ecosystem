{
 "cells": [
  {
   "cell_type": "markdown",
   "id": "8cfb0fba-f295-4e94-abf8-fe920e082418",
   "metadata": {},
   "source": [
    "# Data Science Tools and Ecosystem"
   ]
  },
  {
   "cell_type": "markdown",
   "id": "37aaa26c-e78a-4726-b90a-706baee16716",
   "metadata": {},
   "source": [
    "In this notebook, Data science tools and ecosystem are summarized"
   ]
  },
  {
   "cell_type": "markdown",
   "id": "2d46dc76-b96b-4c9b-a535-a83cdcdb51fb",
   "metadata": {},
   "source": [
    "Some of the popular languages that Data Scientists use are: (1. Python, 2. SQL, 3. R)"
   ]
  },
  {
   "cell_type": "markdown",
   "id": "56ee5c31-50d6-473e-94a0-8cfeb0362593",
   "metadata": {},
   "source": [
    "Some of the commonly used libraries used by Data Scientists include: (1. Pandas 2. NumPY 3. Matplotlib 4. Scikit-learn)"
   ]
  },
  {
   "cell_type": "markdown",
   "id": "78c10886-1603-4b8d-b4c3-e2304a2ad528",
   "metadata": {},
   "source": [
    "| Data Science Tools |\n",
    "|--------------------|\n",
    "| Jupyter Notebook   |\n",
    "| RStudio            |\n",
    "| Apache Zeppelin    |\n"
   ]
  },
  {
   "cell_type": "markdown",
   "id": "8228e3dc-4535-4ffb-8b59-32d9d5fea268",
   "metadata": {},
   "source": [
    "### Below are a few examples of evaluating arithmetic expressions in Python."
   ]
  },
  {
   "cell_type": "code",
   "execution_count": 3,
   "id": "a0c55fd0-d835-4b69-89c1-65020733e686",
   "metadata": {},
   "outputs": [
    {
     "data": {
      "text/plain": [
       "17"
      ]
     },
     "execution_count": 3,
     "metadata": {},
     "output_type": "execute_result"
    }
   ],
   "source": [
    "#This is a simple arithmetic expression to mult. then add integers.\n",
    "(3*4)+5"
   ]
  },
  {
   "cell_type": "markdown",
   "id": "aecad003-4447-4d9e-a75f-24f257020c67",
   "metadata": {},
   "source": [
    "This will convert 200 minutes to hours by dividing by 60"
   ]
  },
  {
   "cell_type": "code",
   "execution_count": 5,
   "id": "2675d7d5-6489-4717-878e-abf700b3489d",
   "metadata": {},
   "outputs": [
    {
     "data": {
      "text/plain": [
       "3.3333333333333335"
      ]
     },
     "execution_count": 5,
     "metadata": {},
     "output_type": "execute_result"
    }
   ],
   "source": [
    "minutes = 200\n",
    "hours = minutes / 60\n",
    "hours"
   ]
  },
  {
   "cell_type": "code",
   "execution_count": null,
   "id": "8451cd14-28ff-4fe6-ae7f-53ad5386b5e7",
   "metadata": {},
   "outputs": [],
   "source": []
  }
 ],
 "metadata": {
  "kernelspec": {
   "display_name": "Python 3 (ipykernel)",
   "language": "python",
   "name": "python3"
  },
  "language_info": {
   "codemirror_mode": {
    "name": "ipython",
    "version": 3
   },
   "file_extension": ".py",
   "mimetype": "text/x-python",
   "name": "python",
   "nbconvert_exporter": "python",
   "pygments_lexer": "ipython3",
   "version": "3.11.7"
  }
 },
 "nbformat": 4,
 "nbformat_minor": 5
}
